{
 "cells": [
  {
   "cell_type": "markdown",
   "id": "d33d7fce-e5cf-4a58-8c35-25a66a8483d3",
   "metadata": {},
   "source": [
    "This is the builder pattern\n",
    "y luego el nombre"
   ]
  },
  {
   "cell_type": "code",
   "execution_count": 1,
   "id": "e8edcd9d-954b-4915-9c99-2acc7c3c91f4",
   "metadata": {},
   "outputs": [],
   "source": [
    "from pyspark.sql import SparkSession\n",
    "\n",
    "#config(\"spark.sql.repl.eagerEval.enabled\",\"True\").\n",
    "\n",
    "spark = (\n",
    "    SparkSession.\n",
    "    builder.\n",
    "    appName(\"Analysing the vocabulary of Pride and Prejudice.\").\n",
    "    getOrCreate()\n",
    ")"
   ]
  },
  {
   "cell_type": "markdown",
   "id": "76ad26fa-9f7f-4ad3-9315-cf71a7de6f16",
   "metadata": {},
   "source": [
    "Ingest transform and load\n",
    "\n",
    "Basicamente tienes un programa corriendo ya\n",
    "\n",
    "ya no lo esta creando el programa\n",
    "\n",
    "ese programa se llama sparksession\n",
    "\n",
    "aqui tu lo haces"
   ]
  },
  {
   "cell_type": "code",
   "execution_count": 2,
   "id": "1516a474-a7bd-4339-8c6b-9c22240651bd",
   "metadata": {},
   "outputs": [
    {
     "data": {
      "text/html": [
       "\n",
       "            <div>\n",
       "                <p><b>SparkSession - in-memory</b></p>\n",
       "                \n",
       "        <div>\n",
       "            <p><b>SparkContext</b></p>\n",
       "\n",
       "            <p><a href=\"http://99ecf27bfd7b:4040\">Spark UI</a></p>\n",
       "\n",
       "            <dl>\n",
       "              <dt>Version</dt>\n",
       "                <dd><code>v3.5.0</code></dd>\n",
       "              <dt>Master</dt>\n",
       "                <dd><code>local[*]</code></dd>\n",
       "              <dt>AppName</dt>\n",
       "                <dd><code>Analysing the vocabulary of Pride and Prejudice.</code></dd>\n",
       "            </dl>\n",
       "        </div>\n",
       "        \n",
       "            </div>\n",
       "        "
      ],
      "text/plain": [
       "<pyspark.sql.session.SparkSession at 0x7f6d27ce7b90>"
      ]
     },
     "execution_count": 2,
     "metadata": {},
     "output_type": "execute_result"
    }
   ],
   "source": [
    "spark"
   ]
  },
  {
   "cell_type": "code",
   "execution_count": 3,
   "id": "568291d7-6ccc-44bd-a716-e614c8185c05",
   "metadata": {},
   "outputs": [
    {
     "data": {
      "text/html": [
       "\n",
       "        <div>\n",
       "            <p><b>SparkContext</b></p>\n",
       "\n",
       "            <p><a href=\"http://99ecf27bfd7b:4040\">Spark UI</a></p>\n",
       "\n",
       "            <dl>\n",
       "              <dt>Version</dt>\n",
       "                <dd><code>v3.5.0</code></dd>\n",
       "              <dt>Master</dt>\n",
       "                <dd><code>local[*]</code></dd>\n",
       "              <dt>AppName</dt>\n",
       "                <dd><code>Analysing the vocabulary of Pride and Prejudice.</code></dd>\n",
       "            </dl>\n",
       "        </div>\n",
       "        "
      ],
      "text/plain": [
       "<SparkContext master=local[*] appName=Analysing the vocabulary of Pride and Prejudice.>"
      ]
     },
     "execution_count": 3,
     "metadata": {},
     "output_type": "execute_result"
    }
   ],
   "source": [
    "spark.sparkContext"
   ]
  },
  {
   "cell_type": "markdown",
   "id": "28576e30-5069-481d-829d-b5133a0b6230",
   "metadata": {},
   "source": [
    "spark session es un wrapper sobre sparkcontext"
   ]
  },
  {
   "cell_type": "code",
   "execution_count": 4,
   "id": "5b6b0609-0807-4e03-b19a-e4f4c5a3065f",
   "metadata": {},
   "outputs": [],
   "source": [
    "spark.sparkContext.setLogLevel(\"WARN\")"
   ]
  },
  {
   "cell_type": "markdown",
   "id": "7c75bb27-9e94-4b92-ac36-6353b2ed2543",
   "metadata": {},
   "source": [
    "### What are the most popular words used in the English language?\n",
    "\n",
    "- Read the input data plain text\n",
    "- Tokenize\n",
    "\n",
    "RDD records\n",
    "\n",
    "Data Frame"
   ]
  },
  {
   "cell_type": "code",
   "execution_count": null,
   "id": "7a92dfda-69db-4a6d-a10c-1bc7e468509d",
   "metadata": {},
   "outputs": [],
   "source": []
  },
  {
   "cell_type": "markdown",
   "id": "6ad90f85-3b55-4468-b26c-953e157b2e2a",
   "metadata": {},
   "source": [
    "optimized row columnar"
   ]
  },
  {
   "cell_type": "code",
   "execution_count": null,
   "id": "3c809425-b7f5-4a0d-be0f-f22289ad951f",
   "metadata": {},
   "outputs": [],
   "source": []
  },
  {
   "cell_type": "code",
   "execution_count": 11,
   "id": "9844d1e5-9724-4cd3-bcfd-79ed855612f5",
   "metadata": {},
   "outputs": [
    {
     "data": {
      "text/plain": [
       "DataFrame[value: string]"
      ]
     },
     "execution_count": 11,
     "metadata": {},
     "output_type": "execute_result"
    }
   ],
   "source": [
    "\n",
    "book=spark.read.text(\"Gutenberg/1342-0.txt\")\n",
    "\n",
    "book"
   ]
  },
  {
   "cell_type": "code",
   "execution_count": 6,
   "id": "db115e6f-9797-43f8-a4a5-36a0e316f121",
   "metadata": {},
   "outputs": [
    {
     "data": {
      "text/plain": [
       "[('value', 'string')]"
      ]
     },
     "execution_count": 6,
     "metadata": {},
     "output_type": "execute_result"
    }
   ],
   "source": [
    "book.dtypes"
   ]
  },
  {
   "cell_type": "code",
   "execution_count": 7,
   "id": "9cfa92fa-1c4d-4fc8-b4a9-3563cbf052aa",
   "metadata": {},
   "outputs": [
    {
     "data": {
      "text/plain": [
       "'The entry point to programming Spark with the Dataset and DataFrame API.\\n\\n    A SparkSession can be used to create :class:`DataFrame`, register :class:`DataFrame` as\\n    tables, execute SQL over tables, cache tables, and read parquet files.\\n    To create a :class:`SparkSession`, use the following builder pattern:\\n\\n    .. versionchanged:: 3.4.0\\n        Supports Spark Connect.\\n\\n    .. autoattribute:: builder\\n       :annotation:\\n\\n    Examples\\n    --------\\n    Create a Spark session.\\n\\n    >>> spark = (\\n    ...     SparkSession.builder\\n    ...         .master(\"local\")\\n    ...         .appName(\"Word Count\")\\n    ...         .config(\"spark.some.config.option\", \"some-value\")\\n    ...         .getOrCreate()\\n    ... )\\n\\n    Create a Spark session with Spark Connect.\\n\\n    >>> spark = (\\n    ...     SparkSession.builder\\n    ...         .remote(\"sc://localhost\")\\n    ...         .appName(\"Word Count\")\\n    ...         .config(\"spark.some.config.option\", \"some-value\")\\n    ...         .getOrCreate()\\n    ... )  # doctest: +SKIP\\n    '"
      ]
     },
     "execution_count": 7,
     "metadata": {},
     "output_type": "execute_result"
    }
   ],
   "source": [
    "spark.__doc__"
   ]
  },
  {
   "cell_type": "code",
   "execution_count": 8,
   "id": "bdc511b8-d5ee-4883-a531-1b7bd8f2e3b2",
   "metadata": {},
   "outputs": [
    {
     "name": "stdout",
     "output_type": "stream",
     "text": [
      "+--------------------+\n",
      "|               value|\n",
      "+--------------------+\n",
      "|The Project Guten...|\n",
      "|                    |\n",
      "|This eBook is for...|\n",
      "|almost no restric...|\n",
      "|re-use it under t...|\n",
      "|with this eBook o...|\n",
      "|                    |\n",
      "|                    |\n",
      "|Title: Pride and ...|\n",
      "|                    |\n",
      "| Author: Jane Austen|\n",
      "|                    |\n",
      "|Posting Date: Aug...|\n",
      "|Release Date: Jun...|\n",
      "|Last Updated: Mar...|\n",
      "|                    |\n",
      "|   Language: English|\n",
      "|                    |\n",
      "|Character set enc...|\n",
      "|                    |\n",
      "+--------------------+\n",
      "only showing top 20 rows\n",
      "\n"
     ]
    }
   ],
   "source": [
    "book.show()"
   ]
  },
  {
   "cell_type": "code",
   "execution_count": 9,
   "id": "a9fa237f-5796-4e24-b262-884391f8c979",
   "metadata": {},
   "outputs": [
    {
     "name": "stdout",
     "output_type": "stream",
     "text": [
      "-RECORD 0---------------------------------------------------------------------\n",
      " value | The Project Gutenberg EBook of Pride and Prejudice, by Jane Austen   \n",
      "-RECORD 1---------------------------------------------------------------------\n",
      " value |                                                                      \n",
      "-RECORD 2---------------------------------------------------------------------\n",
      " value | This eBook is for the use of anyone anywhere at no cost and with     \n",
      "-RECORD 3---------------------------------------------------------------------\n",
      " value | almost no restrictions whatsoever.  You may copy it, give it away or \n",
      "-RECORD 4---------------------------------------------------------------------\n",
      " value | re-use it under the terms of the Project Gutenberg License included  \n",
      "-RECORD 5---------------------------------------------------------------------\n",
      " value | with this eBook or online at www.gutenberg.org                       \n",
      "-RECORD 6---------------------------------------------------------------------\n",
      " value |                                                                      \n",
      "-RECORD 7---------------------------------------------------------------------\n",
      " value |                                                                      \n",
      "-RECORD 8---------------------------------------------------------------------\n",
      " value | Title: Pride and Prejudice                                           \n",
      "-RECORD 9---------------------------------------------------------------------\n",
      " value |                                                                      \n",
      "-RECORD 10--------------------------------------------------------------------\n",
      " value | Author: Jane Austen                                                  \n",
      "-RECORD 11--------------------------------------------------------------------\n",
      " value |                                                                      \n",
      "-RECORD 12--------------------------------------------------------------------\n",
      " value | Posting Date: August 26, 2008 [EBook #1342]                          \n",
      "-RECORD 13--------------------------------------------------------------------\n",
      " value | Release Date: June, 1998                                             \n",
      "-RECORD 14--------------------------------------------------------------------\n",
      " value | Last Updated: March 10, 2018                                         \n",
      "-RECORD 15--------------------------------------------------------------------\n",
      " value |                                                                      \n",
      "-RECORD 16--------------------------------------------------------------------\n",
      " value | Language: English                                                    \n",
      "-RECORD 17--------------------------------------------------------------------\n",
      " value |                                                                      \n",
      "-RECORD 18--------------------------------------------------------------------\n",
      " value | Character set encoding: UTF-8                                        \n",
      "-RECORD 19--------------------------------------------------------------------\n",
      " value |                                                                      \n",
      "only showing top 20 rows\n",
      "\n"
     ]
    }
   ],
   "source": [
    "book.show(n=20,truncate=False,vertical=True)"
   ]
  },
  {
   "cell_type": "code",
   "execution_count": 81,
   "id": "8e1e70fe-3af9-4270-b57d-b4a6df50d632",
   "metadata": {},
   "outputs": [
    {
     "name": "stdout",
     "output_type": "stream",
     "text": [
      "+----------+\n",
      "|word      |\n",
      "+----------+\n",
      "|The       |\n",
      "|Project   |\n",
      "|Gutenberg |\n",
      "|EBook     |\n",
      "|of        |\n",
      "|Pride     |\n",
      "|and       |\n",
      "|Prejudice,|\n",
      "|by        |\n",
      "|Jane      |\n",
      "|Austen    |\n",
      "|          |\n",
      "|This      |\n",
      "|eBook     |\n",
      "|is        |\n",
      "|for       |\n",
      "|the       |\n",
      "|use       |\n",
      "|of        |\n",
      "|anyone    |\n",
      "+----------+\n",
      "only showing top 20 rows\n",
      "\n"
     ]
    }
   ],
   "source": [
    "from pyspark.sql.functions import col,split, explode, lower\n",
    "\n",
    "#book.select(book.value).show()\n",
    "#book.select(book[\"value\"]).show()\n",
    "\n",
    "\n",
    "\n",
    "#el alias se pone dentro de la columna\n",
    "#split es un col te regresa un col con nombre cambiado!\n",
    "#select te da un dataframe de un col\n",
    "\n",
    "lines=(\n",
    "    book.select(\n",
    "        split(\n",
    "            col(\"value\"), \n",
    "            \" \"\n",
    "        ).alias(\"line\")\n",
    "    ).alias(\"Ale\")\n",
    "    #aqui no vas a saber que columna quieres!\n",
    ")\n",
    "\n",
    "words=(\n",
    "    lines.select(\n",
    "        explode(\n",
    "            col(\"line\")\n",
    "        ).\n",
    "        alias(\"word\")\n",
    "    )\n",
    ")\n",
    "\n",
    "words.show(truncate=False)\n"
   ]
  },
  {
   "cell_type": "code",
   "execution_count": 87,
   "id": "e45fb89d-d9fd-453d-ac29-c965d7982e4b",
   "metadata": {},
   "outputs": [
    {
     "name": "stdout",
     "output_type": "stream",
     "text": [
      "+----------+\n",
      "|word_lower|\n",
      "+----------+\n",
      "|       the|\n",
      "|   project|\n",
      "| gutenberg|\n",
      "|     ebook|\n",
      "|        of|\n",
      "|     pride|\n",
      "|       and|\n",
      "|prejudice,|\n",
      "|        by|\n",
      "|      jane|\n",
      "|    austen|\n",
      "|          |\n",
      "|      this|\n",
      "|     ebook|\n",
      "|        is|\n",
      "|       for|\n",
      "|       the|\n",
      "|       use|\n",
      "|        of|\n",
      "|    anyone|\n",
      "+----------+\n",
      "only showing top 20 rows\n",
      "\n"
     ]
    }
   ],
   "source": [
    "words_lower=(\n",
    "    words.select(\n",
    "        lower(\n",
    "            col(\"word\")\n",
    "        ).alias(\"word_lower\")\n",
    "    )\n",
    ")\n",
    "\n",
    "words_lower.show()"
   ]
  },
  {
   "cell_type": "code",
   "execution_count": 106,
   "id": "f63c2439-0525-4b33-978c-472864ca8e41",
   "metadata": {},
   "outputs": [
    {
     "name": "stdout",
     "output_type": "stream",
     "text": [
      "+---------+\n",
      "|     word|\n",
      "+---------+\n",
      "|      the|\n",
      "|  project|\n",
      "|gutenberg|\n",
      "|    ebook|\n",
      "|       of|\n",
      "|    pride|\n",
      "|      and|\n",
      "|prejudice|\n",
      "|       by|\n",
      "|     jane|\n",
      "|   austen|\n",
      "|         |\n",
      "|     this|\n",
      "|    ebook|\n",
      "|       is|\n",
      "|      for|\n",
      "|      the|\n",
      "|      use|\n",
      "|       of|\n",
      "|   anyone|\n",
      "+---------+\n",
      "only showing top 20 rows\n",
      "\n"
     ]
    }
   ],
   "source": [
    "from pyspark.sql.functions import regexp_extract\n",
    "\n",
    "#aqui se quitan las comas, \n",
    "words_clean=(\n",
    "    words_lower.select(\n",
    "        regexp_extract(\n",
    "            str=col(\"word_lower\"),\n",
    "            pattern=\"[a-z]+\",\n",
    "            #se extrae la primer ocurrencia!\n",
    "            idx=0\n",
    "        ).alias(\"word\")\n",
    "    )\n",
    ")\n",
    "\n",
    "words_clean.show()"
   ]
  },
  {
   "cell_type": "code",
   "execution_count": 114,
   "id": "f5c3c6f2-ae16-45b9-acb7-ef1d58e48095",
   "metadata": {},
   "outputs": [
    {
     "name": "stdout",
     "output_type": "stream",
     "text": [
      "+---------+\n",
      "|     word|\n",
      "+---------+\n",
      "|      the|\n",
      "|  project|\n",
      "|gutenberg|\n",
      "|    ebook|\n",
      "|       of|\n",
      "|    pride|\n",
      "|      and|\n",
      "|prejudice|\n",
      "|       by|\n",
      "|     jane|\n",
      "|   austen|\n",
      "|     this|\n",
      "|    ebook|\n",
      "|       is|\n",
      "|      for|\n",
      "|      the|\n",
      "|      use|\n",
      "|       of|\n",
      "|   anyone|\n",
      "| anywhere|\n",
      "+---------+\n",
      "only showing top 20 rows\n",
      "\n"
     ]
    }
   ],
   "source": [
    "words_nonull=words_clean.filter(col(\"word\")!=\"\")\n",
    "words_nonull.show()"
   ]
  },
  {
   "cell_type": "code",
   "execution_count": 122,
   "id": "acff582a-6fcc-48c8-bccd-263dece8cebc",
   "metadata": {},
   "outputs": [
    {
     "name": "stdout",
     "output_type": "stream",
     "text": [
      "+-------------+-----+\n",
      "|         word|count|\n",
      "+-------------+-----+\n",
      "|       online|    4|\n",
      "|         some|  209|\n",
      "|        still|   72|\n",
      "|          few|   72|\n",
      "|         hope|  122|\n",
      "|        those|   60|\n",
      "|     cautious|    4|\n",
      "|    imitation|    1|\n",
      "|          art|    3|\n",
      "|      solaced|    1|\n",
      "|       poetry|    2|\n",
      "|    arguments|    5|\n",
      "| premeditated|    1|\n",
      "|      elevate|    1|\n",
      "|       doubts|    2|\n",
      "|    destitute|    1|\n",
      "|    solemnity|    5|\n",
      "|   lieutenant|    1|\n",
      "|gratification|    1|\n",
      "|    connected|   14|\n",
      "+-------------+-----+\n",
      "only showing top 20 rows\n",
      "\n"
     ]
    }
   ],
   "source": [
    "results=(\n",
    "    words_nonull.groupBy(\n",
    "        col(\"word\")\n",
    "    ).count()\n",
    ")\n",
    "\n",
    "results.show()"
   ]
  },
  {
   "cell_type": "code",
   "execution_count": 129,
   "id": "7cf7bb71-6d22-40ea-b09b-4ac1ef2e990a",
   "metadata": {},
   "outputs": [
    {
     "name": "stdout",
     "output_type": "stream",
     "text": [
      "+----+-----+\n",
      "|word|count|\n",
      "+----+-----+\n",
      "| the| 4496|\n",
      "|  to| 4235|\n",
      "|  of| 3719|\n",
      "| and| 3602|\n",
      "| her| 2223|\n",
      "|   i| 2052|\n",
      "|   a| 1997|\n",
      "|  in| 1920|\n",
      "| was| 1844|\n",
      "| she| 1703|\n",
      "+----+-----+\n",
      "only showing top 10 rows\n",
      "\n"
     ]
    }
   ],
   "source": [
    "results.orderBy(col(\"count\"), ascending=False).show(10)"
   ]
  },
  {
   "cell_type": "code",
   "execution_count": 131,
   "id": "e21b72e3-56c9-4578-9d1e-03bf47cba055",
   "metadata": {},
   "outputs": [
    {
     "name": "stdout",
     "output_type": "stream",
     "text": [
      "+-------------+-----+\n",
      "|         word|count|\n",
      "+-------------+-----+\n",
      "|       online|    4|\n",
      "|         some|  209|\n",
      "|        still|   72|\n",
      "|          few|   72|\n",
      "|         hope|  122|\n",
      "|        those|   60|\n",
      "|     cautious|    4|\n",
      "|    imitation|    1|\n",
      "|          art|    3|\n",
      "|      solaced|    1|\n",
      "|       poetry|    2|\n",
      "|    arguments|    5|\n",
      "| premeditated|    1|\n",
      "|      elevate|    1|\n",
      "|       doubts|    2|\n",
      "|    destitute|    1|\n",
      "|    solemnity|    5|\n",
      "|   lieutenant|    1|\n",
      "|gratification|    1|\n",
      "|    connected|   14|\n",
      "+-------------+-----+\n",
      "only showing top 20 rows\n",
      "\n"
     ]
    }
   ],
   "source": [
    "results.show()"
   ]
  },
  {
   "cell_type": "code",
   "execution_count": 134,
   "id": "a2924fb5-219c-4a45-8637-ec347d0fbecc",
   "metadata": {},
   "outputs": [],
   "source": [
    "results.write.csv(\"Data/simple_count.csv\", mode=\"overwrite\")"
   ]
  }
 ],
 "metadata": {
  "kernelspec": {
   "display_name": "Python 3 (ipykernel)",
   "language": "python",
   "name": "python3"
  },
  "language_info": {
   "codemirror_mode": {
    "name": "ipython",
    "version": 3
   },
   "file_extension": ".py",
   "mimetype": "text/x-python",
   "name": "python",
   "nbconvert_exporter": "python",
   "pygments_lexer": "ipython3",
   "version": "3.11.6"
  }
 },
 "nbformat": 4,
 "nbformat_minor": 5
}
